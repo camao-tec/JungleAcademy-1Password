{
 "cells": [
  {
   "cell_type": "code",
   "execution_count": null,
   "metadata": {},
   "outputs": [],
   "source": [
    "%pip install onepasswordconnectsdk\n",
    "# Connect Server needed https://github.com/1Password/connect\n",
    "import onepasswordconnectsdk \n",
    "\n",
    "from onepasswordconnectsdk.client import (\n",
    "    Client,\n",
    "    new_client_from_environment,\n",
    "    new_client\n",
    ")\n",
    "OP_CONNECT_TOKEN = \"\"\n",
    "OP_CONNECT_HOST = \"http://localhost:8080\"\n",
    "\n",
    "client: Client = new_client(\n",
    "    OP_CONNECT_HOST,\n",
    "    OP_CONNECT_TOKEN)"
   ]
  },
  {
   "cell_type": "code",
   "execution_count": null,
   "metadata": {},
   "outputs": [],
   "source": [
    "# Example get all accessable Vaults\n",
    "get_all_vaults = client.get_vaults()\n",
    "print(\"\\nExample to get all accessable Vaults\")\n",
    "print(get_all_vaults)"
   ]
  },
  {
   "cell_type": "code",
   "execution_count": null,
   "metadata": {},
   "outputs": [],
   "source": [
    "# Example get vault by title and get its ID\n",
    "vault_name = \"JungleAcademy\"\n",
    "get_vault_id = client.get_vault_by_title(vault_name).id\n",
    "print(\"\\nExample get vault by title and get its ID\")\n",
    "print(get_vault_id)"
   ]
  },
  {
   "cell_type": "code",
   "execution_count": null,
   "metadata": {},
   "outputs": [],
   "source": [
    "# Example get full item with all attributes\n",
    "item_title = \"super_secret\"\n",
    "op_secret = client.get_item_by_title(item_title, get_vault_id)\n",
    "print(\"\\nExample get full item with all attributes\")\n",
    "print(op_secret)"
   ]
  },
  {
   "cell_type": "code",
   "execution_count": null,
   "metadata": {},
   "outputs": [],
   "source": [
    "# Example get single item, single attribute\n",
    "op_attribute = op_secret.fields[1].value\n",
    "print(\"\\nExample get single item, single attribute\")\n",
    "print(op_attribute)"
   ]
  }
 ],
 "metadata": {
  "kernelspec": {
   "display_name": "Python 3",
   "language": "python",
   "name": "python3"
  },
  "language_info": {
   "codemirror_mode": {
    "name": "ipython",
    "version": 3
   },
   "file_extension": ".py",
   "mimetype": "text/x-python",
   "name": "python",
   "nbconvert_exporter": "python",
   "pygments_lexer": "ipython3",
   "version": "3.10.9"
  },
  "orig_nbformat": 4,
  "vscode": {
   "interpreter": {
    "hash": "b0fa6594d8f4cbf19f97940f81e996739fb7646882a419484c72d19e05852a7e"
   }
  }
 },
 "nbformat": 4,
 "nbformat_minor": 2
}
